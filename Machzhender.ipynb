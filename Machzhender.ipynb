{
 "cells": [
  {
   "cell_type": "code",
   "execution_count": 1,
   "id": "92c123dd",
   "metadata": {},
   "outputs": [],
   "source": [
    "from random import randrange\n",
    "from math import pi\n",
    "from qiskit import QuantumRegister, ClassicalRegister, QuantumCircuit, execute, Aer, assemble\n",
    "from qiskit.visualization import plot_histogram, plot_bloch_multivector, array_to_latex"
   ]
  },
  {
   "cell_type": "markdown",
   "id": "cee8af9f",
   "metadata": {},
   "source": [
    "### Initialize the Quantum Register for how many qubits you need. \n",
    "\n",
    "#### Since the input source uses only one vaccum state $|0\\rangle$ then we register only qubit"
   ]
  },
  {
   "cell_type": "code",
   "execution_count": 2,
   "id": "db0f85ac",
   "metadata": {},
   "outputs": [],
   "source": [
    "qreg =  QuantumRegister(1,\"qreg\")"
   ]
  },
  {
   "cell_type": "markdown",
   "id": "42729011",
   "metadata": {},
   "source": [
    "### One Classical Register for one classical bit for measurement."
   ]
  },
  {
   "cell_type": "code",
   "execution_count": 3,
   "id": "18f4d107",
   "metadata": {},
   "outputs": [],
   "source": [
    "creg = ClassicalRegister(1,\"creg\")"
   ]
  },
  {
   "cell_type": "markdown",
   "id": "30d5cf17",
   "metadata": {},
   "source": [
    "## Now initialize Quantum Circuit using both quantum register and classical register."
   ]
  },
  {
   "cell_type": "code",
   "execution_count": 4,
   "id": "c578324d",
   "metadata": {},
   "outputs": [],
   "source": [
    "qc = QuantumCircuit(qreg,creg)"
   ]
  },
  {
   "cell_type": "markdown",
   "id": "c1e4963d",
   "metadata": {},
   "source": [
    "#### Suppose initially we have |0> photon Fock state and it passes through a beam splitter which transforms the $|0\\rangle$ $\\rightarrow$ $\\frac{1}{\\sqrt{2}}\\left(|0\\rangle + |1\\rangle\\right)$.\n",
    "#### In Qiskit we use the Hadamard gate for the transformation of $|0\\rangle$. "
   ]
  },
  {
   "cell_type": "code",
   "execution_count": 5,
   "id": "e088770e",
   "metadata": {},
   "outputs": [
    {
     "data": {
      "image/png": "[encoded data removed]",
      "text/plain": [
       "<Figure size 168.141x144.48 with 1 Axes>"
      ]
     },
     "metadata": {},
     "output_type": "display_data"
    }
   ],
   "source": [
    "#first beam splitter transformation\n",
    "qc.h(qreg[0])\n",
    "display(qc.draw(output=\"mpl\"))"
   ]
  },
  {
   "cell_type": "markdown",
   "id": "cd99311e",
   "metadata": {},
   "source": [
    "* Now there is a phase rotator on one arm named $\\phi$ = $0,\\pi, \\pi/2$\n",
    "* Apply rotation gate $R_{y}$\n",
    "* Describe which detector it will click after passing throught beam splitter 2"
   ]
  },
  {
   "cell_type": "code",
   "execution_count": 6,
   "id": "95cfdbba",
   "metadata": {},
   "outputs": [
    {
     "data": {
      "image/png": "[encoded data removed]",
      "text/plain": [
       "<Figure size 228.341x144.48 with 1 Axes>"
      ]
     },
     "metadata": {},
     "output_type": "display_data"
    }
   ],
   "source": [
    "rotation = pi/2\n",
    "qc.ry(rotation,qreg[0])\n",
    "display(qc.draw(output=\"mpl\"))"
   ]
  },
  {
   "cell_type": "markdown",
   "id": "bc233685",
   "metadata": {},
   "source": [
    "#### We have set the rotation angle.\n",
    "* Now we pass the statevector $\\psi$ through the second beam splitter using Hadamard gate"
   ]
  },
  {
   "cell_type": "code",
   "execution_count": 7,
   "id": "e1b270ad",
   "metadata": {
    "scrolled": false
   },
   "outputs": [
    {
     "data": {
      "image/png": "[encoded data removed]",
      "text/plain": [
       "<Figure size 288.541x144.48 with 1 Axes>"
      ]
     },
     "metadata": {},
     "output_type": "display_data"
    }
   ],
   "source": [
    "qc.h(qreg[0])\n",
    "display(qc.draw(output=\"mpl\"))"
   ]
  },
  {
   "cell_type": "code",
   "execution_count": 8,
   "id": "f102657c",
   "metadata": {},
   "outputs": [],
   "source": [
    "a = \"Beeps on either detector 1 and detector 2 with equal probabilities\"\n",
    "    \n",
    "b = \"Beeps on detector 1\"\n",
    "    \n",
    "c = \"Beeps on detector 2\""
   ]
  },
  {
   "cell_type": "markdown",
   "id": "20b757b4",
   "metadata": {},
   "source": [
    "#### Perform meaurement"
   ]
  },
  {
   "cell_type": "markdown",
   "id": "cc4f1cc4",
   "metadata": {},
   "source": [
    "* Now set the conditions i.e. which detector will click based on the rotation angle."
   ]
  },
  {
   "cell_type": "code",
   "execution_count": 9,
   "id": "a9d846c6",
   "metadata": {},
   "outputs": [
    {
     "data": {
      "image/png": "[encoded data removed]",
      "text/plain": [
       "<Figure size 348.741x144.48 with 1 Axes>"
      ]
     },
     "metadata": {},
     "output_type": "display_data"
    }
   ],
   "source": [
    "qc.measure(qreg,creg)\n",
    "display(qc.draw(output=\"mpl\"))"
   ]
  },
  {
   "cell_type": "markdown",
   "id": "21d77575",
   "metadata": {},
   "source": [
    "* Save the statevector and Print it in hard form"
   ]
  },
  {
   "cell_type": "code",
   "execution_count": 12,
   "id": "53fe9419",
   "metadata": {},
   "outputs": [
    {
     "data": {
      "text/latex": [
       "$$\n",
       "\\text{Statevector = }\n",
       "\\begin{bmatrix}\n",
       "0 & -1  \\\\\n",
       " \\end{bmatrix}\n",
       "$$"
      ],
      "text/plain": [
       "<IPython.core.display.Latex object>"
      ]
     },
     "execution_count": 12,
     "metadata": {},
     "output_type": "execute_result"
    }
   ],
   "source": [
    "qc.save_statevector()\n",
    "qobj = assemble(qc)\n",
    "svsim = Aer.get_backend('aer_simulator')\n",
    "result = svsim.run(qobj).result()\n",
    "# Print the statevector neatly:\n",
    "final_state = result.get_statevector()\n",
    "array_to_latex(final_state, prefix=\"\\\\text{Statevector = }\")"
   ]
  },
  {
   "cell_type": "markdown",
   "id": "daed679b",
   "metadata": {},
   "source": [
    "### CASE 1: When $\\phi = 0$\n",
    "\n",
    "* It clicks the detector D1"
   ]
  },
  {
   "cell_type": "code",
   "execution_count": 13,
   "id": "31f41538",
   "metadata": {},
   "outputs": [],
   "source": [
    "if rotation==0:\n",
    "    print(b)\n",
    "    job = execute(qc,Aer.get_backend('qasm_simulator'),shots=1000)\n",
    "    counts = job.result().get_counts(qc)\n",
    "    \n",
    "    print(counts)\n",
    "    print()\n",
    "    \n",
    "    n_zeros = counts['0']\n",
    "#    n_ones = counts3['1']\n",
    "    print(\"State 0 is observed with frequency %\",100*n_zeros/(n_zeros))\n",
    "#    print(\"State 1 is observed with frequency %\",100*n_ones/(n_zeros+n_ones))\n",
    "    print()"
   ]
  },
  {
   "cell_type": "markdown",
   "id": "13625f8d",
   "metadata": {},
   "source": [
    "### CASE 2: When $\\phi = \\pi$\n",
    "\n",
    "* It clicks the detector D2"
   ]
  },
  {
   "cell_type": "code",
   "execution_count": 14,
   "id": "fd280303",
   "metadata": {},
   "outputs": [],
   "source": [
    "if rotation==pi:\n",
    "    print(c)\n",
    "    job = execute(qc,Aer.get_backend('qasm_simulator'),shots=1000)\n",
    "    counts = job.result().get_counts(qc)\n",
    "    \n",
    "    print(counts)\n",
    "    print()\n",
    "    \n",
    "#    n_zeros = counts3['0']\n",
    "    n_ones = counts['1']\n",
    "#    print(\"State 0 is observed with frequency %\",100*n_zeros/(n_zeros))\n",
    "    print(\"State 1 is observed with frequency %\",100*n_ones/(n_ones))\n",
    "    print()"
   ]
  },
  {
   "cell_type": "markdown",
   "id": "3f1d34ac",
   "metadata": {},
   "source": [
    "### CASE 3: When $\\phi = \\frac{\\pi}{2}$\n",
    "\n",
    "* It either clicks the detector D1 or D2 with equal probabilties"
   ]
  },
  {
   "cell_type": "code",
   "execution_count": 15,
   "id": "a37ff9a7",
   "metadata": {},
   "outputs": [
    {
     "name": "stdout",
     "output_type": "stream",
     "text": [
      "Beeps on either detector 1 and detector 2 with equal probabilities\n",
      "{'1': 526, '0': 474}\n",
      "\n",
      "State 0 is observed with frequency % 47.4\n",
      "State 1 is observed with frequency % 52.6\n",
      "\n"
     ]
    }
   ],
   "source": [
    "if rotation==pi/2:\n",
    "    print(a)\n",
    "    job = execute(qc,Aer.get_backend('qasm_simulator'),shots=1000)\n",
    "    counts = job.result().get_counts(qc)\n",
    "    \n",
    "    print(counts)\n",
    "    print()\n",
    "    \n",
    "    n_zeros = counts['0']\n",
    "    n_ones = counts['1']\n",
    "    print(\"State 0 is observed with frequency %\",100*n_zeros/(n_zeros+n_ones))\n",
    "    print(\"State 1 is observed with frequency %\",100*n_ones/(n_zeros+n_ones))\n",
    "    print()"
   ]
  },
  {
   "cell_type": "markdown",
   "id": "6891f6b4",
   "metadata": {},
   "source": [
    "## Plot Probabilities on Histogram"
   ]
  },
  {
   "cell_type": "code",
   "execution_count": 16,
   "id": "e32bab8f",
   "metadata": {},
   "outputs": [
    {
     "data": {
      "image/png": "[encoded data removed]",
      "text/plain": [
       "<Figure size 504x360 with 1 Axes>"
      ]
     },
     "execution_count": 16,
     "metadata": {},
     "output_type": "execute_result"
    }
   ],
   "source": [
    "from qiskit.visualization import plot_histogram\n",
    "plot_histogram(counts)"
   ]
  },
  {
   "cell_type": "code",
   "execution_count": null,
   "id": "ba174b09",
   "metadata": {},
   "outputs": [],
   "source": []
  }
 ],
 "metadata": {
  "kernelspec": {
   "display_name": "Python 3 (ipykernel)",
   "language": "python",
   "name": "python3"
  },
  "language_info": {
   "codemirror_mode": {
    "name": "ipython",
    "version": 3
   },
   "file_extension": ".py",
   "mimetype": "text/x-python",
   "name": "python",
   "nbconvert_exporter": "python",
   "pygments_lexer": "ipython3",
   "version": "3.8.13"
  }
 },
 "nbformat": 4,
 "nbformat_minor": 5
}
